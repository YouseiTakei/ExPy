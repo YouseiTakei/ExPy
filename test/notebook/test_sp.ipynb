{
 "cells": [
  {
   "cell_type": "markdown",
   "metadata": {},
   "source": [
    "## チートシート"
   ]
  },
  {
   "cell_type": "markdown",
   "metadata": {},
   "source": [
    "### １．準備\n",
    "```python\n",
    "import sympy as sym\n",
    "from sympy import init_printing\n",
    "from sympy import sqrt,sin,cos,tan,exp,log\n",
    "init_printing()\n",
    "(a_,b_,c_,d_,e_,\n",
    " f_,g_,h_,i_,j_,\n",
    " k_,l_,m_,n_,o_,\n",
    " p_,q_,r_,s_,t_,\n",
    " u_,v_,w_,x_,y_,\n",
    " z_) = sym.symbols('a b c d e f g h i j k l m n o p q r s t u v w x y z')\n",
    "oo = sym.oo\n",
    "```"
   ]
  },
  {
   "cell_type": "code",
   "execution_count": 3,
   "metadata": {},
   "outputs": [],
   "source": [
    "import math\n",
    "import scipy\n",
    "import numpy as np\n",
    "import pandas as pd\n",
    "from scipy import stats\n",
    "from matplotlib.pyplot import rc\n",
    "%matplotlib inline\n",
    "import matplotlib.pyplot as plt\n",
    "def p(a,b=''):print(b+'>>'+str(a))\n",
    "    \n",
    "from pyperclip import copy\n",
    "from pyperclip import paste\n",
    "\n",
    "#import expy as sym\n",
    "import sympy as sym\n",
    "from sympy import init_printing\n",
    "from sympy import sqrt,sin,cos,tan,exp,log\n",
    "init_printing()\n",
    "(a_,b_,c_,d_,e_,\n",
    " f_,g_,h_,i_,j_,\n",
    " k_,l_,m_,n_,o_,\n",
    " p_,q_,r_,s_,t_,\n",
    " u_,v_,w_,x_,y_,\n",
    " z_) = sym.symbols('a b c d e f g h i j k l m n o p q r s t u v w x y z')\n",
    "oo = sym.oo\n",
    "\n",
    "def cp(b):copy('$'+sp.latex(b)+'$')\n",
    "#from latexfile import LatexFile\n",
    "#from IPython.core.debugger import Pdb; Pdb().set_trace()"
   ]
  },
  {
   "cell_type": "markdown",
   "metadata": {},
   "source": [
    "# ２．基礎"
   ]
  },
  {
   "cell_type": "markdown",
   "metadata": {},
   "source": [
    "|<p>|sympy.関数名|内容|例）入力>>出力|<p>|  \n",
    "|:--|:-----------|:---|:-------------|:--|  \n",
    "|<p>| init_printing() | 数式の表示 | ```init_printing()``` ||  \n",
    "|<p>| Symbol() | 変数定義 | ```l=Symbol('lamda')```>>$\\lambda$ ||\n",
    "|<p>| symbols()| 変数を複数定義 | ```x, y = symbols('x y')``` ||  \n",
    "|<p>| .Point() | ベクトル定義 | ```sp.Point([3,4])```<br>>>$Point2D(3, 4)$ ||       \n",
    "|<p>| .Matrix() | 行列定義 | ```A=Matrix([[1,0], [0,1]])```<br>>> ||  \n",
    "|<p>| .Eq | 方程式を作る | ``````<br>>> ||   \n",
    "|<p>|  |  | ``````<br>>> ||   \n",
    "|<p>|  |  | ``````<br>>> ||   "
   ]
  },
  {
   "cell_type": "code",
   "execution_count": 4,
   "metadata": {},
   "outputs": [],
   "source": [
    "l = sym.Symbol('lamda')"
   ]
  },
  {
   "cell_type": "code",
   "execution_count": 5,
   "metadata": {},
   "outputs": [
    {
     "data": {
      "image/png": "[encoded data removed]",
      "text/latex": [
       "$$Point2D(3, 4)$$"
      ],
      "text/plain": [
       "Point2D(3, 4)"
      ]
     },
     "execution_count": 5,
     "metadata": {},
     "output_type": "execute_result"
    }
   ],
   "source": [
    "sym.Point([3,4])"
   ]
  },
  {
   "cell_type": "code",
   "execution_count": 8,
   "metadata": {},
   "outputs": [
    {
     "data": {
      "image/png": "[encoded data removed]",
      "text/latex": [
       "$$x = 0$$"
      ],
      "text/plain": [
       "x = 0"
      ]
     },
     "execution_count": 8,
     "metadata": {},
     "output_type": "execute_result"
    }
   ],
   "source": [
    "sym.Eq(x_)"
   ]
  },
  {
   "cell_type": "code",
   "execution_count": 11,
   "metadata": {},
   "outputs": [
    {
     "data": {
      "image/png": "[encoded data removed]",
      "text/latex": [
       "$$x = y$$"
      ],
      "text/plain": [
       "x = y"
      ]
     },
     "execution_count": 11,
     "metadata": {},
     "output_type": "execute_result"
    }
   ],
   "source": [
    "sym.Eq(x_,y_)"
   ]
  },
  {
   "cell_type": "markdown",
   "metadata": {},
   "source": [
    "### ３．出力"
   ]
  },
  {
   "cell_type": "markdown",
   "metadata": {},
   "source": [
    "|<p>|sympy.関数名|内容|例）入力>>出力|<p>|  \n",
    "|:----|:---------------|:-----|:------------------|:----|  \n",
    "|<p>| latex() | LaTeX出力 | ```latex(1/x)```<br>>>'\\\\frac{1}{x}' ||    \n",
    "|<p>| factor_list() | 因数のリストを取得 | ```sp.factor_list(3*x**2+6*x*y+3*y**2)```<br>>>$\\left ( 3, \\quad \\left [ \\left ( x + y, \\quad 2\\right )\\right ]\\right )$ ||   "
   ]
  },
  {
   "cell_type": "markdown",
   "metadata": {},
   "source": [
    "### ４．演算子計算"
   ]
  },
  {
   "cell_type": "markdown",
   "metadata": {},
   "source": [
    "|<p>|sympy.関数名|内容|例）入力>>出力|<p>|  \n",
    "|:----|:---------------|:-----|:------------------|:----|  \n",
    "|<p>| .sqrt() | 平方根 | ```sqrt(8)```<br>>>$2 \\sqrt{2}$ ||\n",
    "|<p>| .sin()<br>.cos()<br>.tan() | 三角関数 | ```sin^2(x)+cos^2(x)```<br>>> ||   \n",
    "|<p>|  |  | ``````<br>>> ||   \n",
    "|<p>| .limit() | 極限 | ```limit(sin(x)/x, x, oo)```<br>>> ||   \n",
    "|<p>| .diff(f,x) | 微分 | ``````<br>>> ||   \n",
    "|<p>| .integrate(expr, x) | 積分 | ``````<br>>> ||   \n",
    "|<p>| .P()  | 確率変数関数 | ``````<br>>> ||   \n",
    "|<p>| .E()  | 確率変数関数 | ``````<br>>> ||   \n",
    "|<p>| .Die()| 一様確率分布 | ``````<br>>> ||   "
   ]
  },
  {
   "cell_type": "code",
   "execution_count": 172,
   "metadata": {},
   "outputs": [
    {
     "data": {
      "image/png": "[encoded data removed]",
      "text/latex": [
       "$$2 \\sqrt{2}$$"
      ],
      "text/plain": [
       "2⋅√2"
      ]
     },
     "execution_count": 172,
     "metadata": {},
     "output_type": "execute_result"
    }
   ],
   "source": [
    "sym.sqrt(8)"
   ]
  },
  {
   "cell_type": "code",
   "execution_count": 173,
   "metadata": {},
   "outputs": [
    {
     "data": {
      "image/png": "[encoded data removed]",
      "text/latex": [
       "$$\\frac{\\sin{\\left (x \\right )}}{\\cos{\\left (x \\right )}}$$"
      ],
      "text/plain": [
       "sin(x)\n",
       "──────\n",
       "cos(x)"
      ]
     },
     "execution_count": 173,
     "metadata": {},
     "output_type": "execute_result"
    }
   ],
   "source": [
    "(sym.sin(x)/sym.cos(x))"
   ]
  },
  {
   "cell_type": "markdown",
   "metadata": {},
   "source": [
    "### ６．方程式計算\n",
    "|<p>|sympy.関数名|内容|例）入力>>出力|<p>|  \n",
    "|:----|:---------------|:-----|:------------------|:----|  \n",
    "|<p>| .factor() | 因数分解 | ```factor(x**2+2*x*y+y**2)```<br>>>$\\left(x + y\\right)^{2}$||  \n",
    "|<p>| .expand() | 多項式展開 | ```expand((x + y)**2)```<br>>>$x^{2} + 2 x y + y^{2}$ ||  \n",
    "|<p>| .solve() | 方程式をある変数で解く | ```sp.solve(x**2+2*x*y+y**2,x)```<br>>>$\\left [ - y\\right ]$ ||  \n",
    "|<p>| pde_separate() | 偏微分方程式に含まれる従属変数的関数を加法的または乗法的に変数分離 | ``````<br>>> ||  \n",
    "|<p>| pdsolve() | 二変数関数の偏微分方程式を解く | ``````<br>>> ||   \n",
    "|<p>| classify_pde() | 偏微分方程式 eq のタイプを返す | ``````<br>>> ||  \n",
    "|<p>| checkpdesol()  | 微分方程式の解を求めた後,検算 | ``````<br>>> ||    \n",
    "|<p>|  |  | ``````<br>>> ||    \n",
    "|<p>|  |  | ``````<br>>> ||    \n",
    "|<p>|  |  | ``````<br>>> ||      "
   ]
  },
  {
   "cell_type": "code",
   "execution_count": 174,
   "metadata": {},
   "outputs": [
    {
     "data": {
      "image/png": "[encoded data removed]",
      "text/latex": [
       "$$\\left(x + y\\right)^{2}$$"
      ],
      "text/plain": [
       "       2\n",
       "(x + y) "
      ]
     },
     "execution_count": 174,
     "metadata": {},
     "output_type": "execute_result"
    }
   ],
   "source": [
    "sym.factor(x**2 + 2*x*y + y**2)"
   ]
  },
  {
   "cell_type": "code",
   "execution_count": 175,
   "metadata": {},
   "outputs": [
    {
     "data": {
      "image/png": "[encoded data removed]",
      "text/latex": [
       "$$x^{2} + 2 x y + y^{2}$$"
      ],
      "text/plain": [
       " 2            2\n",
       "x  + 2⋅x⋅y + y "
      ]
     },
     "execution_count": 175,
     "metadata": {},
     "output_type": "execute_result"
    }
   ],
   "source": [
    "sym.expand((x + y)**2)"
   ]
  },
  {
   "cell_type": "code",
   "execution_count": 176,
   "metadata": {},
   "outputs": [
    {
     "data": {
      "image/png": "[encoded data removed]",
      "text/latex": [
       "$$\\left [ - y\\right ]$$"
      ],
      "text/plain": [
       "[-y]"
      ]
     },
     "execution_count": 176,
     "metadata": {},
     "output_type": "execute_result"
    }
   ],
   "source": [
    "sym.solve(x**2+2*x*y+y**2,x)"
   ]
  },
  {
   "cell_type": "markdown",
   "metadata": {},
   "source": [
    "### 7．式から拡張\n",
    "|<p>|sympy.関数名|内容|例）入力>>出力|<p>|  \n",
    "|:----|:---------------|:-----|:------------------|:----|  \n",
    "|<p>| f.subs([(x, 1)]) | 数値を代入する | ``````<br>>> ||   \n",
    "|<p>| f.series(x) | テイラー展開 | ```exp(x).series(x)```<br>>>$1 + x + \\frac{x^{2}}{2} + \\frac{x^{3}}{6} + \\frac{x^{4}}{24} + \\frac{x^{5}}{120} + O\\left(x^{6}\\right)$ ||    \n",
    "|<p>| f.rewrite() | 関数の変換 | ```sin(x).rewrite(cos)```<br>>>$\\cos{\\left (x - \\frac{\\pi}{2} \\right )}$<br>```sin(x).rewrite(exp)```<br>>>$- \\frac{i \\left(e^{i x} - e^{- i x}\\right)}{2}$ ||     \n",
    "|<p>|  |  | ``````<br>>> ||    "
   ]
  },
  {
   "cell_type": "code",
   "execution_count": 177,
   "metadata": {},
   "outputs": [
    {
     "data": {
      "image/png": "[encoded data removed]",
      "text/latex": [
       "$$1 + x + \\frac{x^{2}}{2} + \\frac{x^{3}}{6} + \\frac{x^{4}}{24} + \\frac{x^{5}}{120} + O\\left(x^{6}\\right)$$"
      ],
      "text/plain": [
       "         2    3    4     5        \n",
       "        x    x    x     x     ⎛ 6⎞\n",
       "1 + x + ── + ── + ── + ─── + O⎝x ⎠\n",
       "        2    6    24   120        "
      ]
     },
     "execution_count": 177,
     "metadata": {},
     "output_type": "execute_result"
    }
   ],
   "source": [
    "exp(x).series(x)"
   ]
  },
  {
   "cell_type": "code",
   "execution_count": 178,
   "metadata": {},
   "outputs": [
    {
     "data": {
      "image/png": "[encoded data removed]",
      "text/latex": [
       "$$- \\frac{i \\left(e^{i x} - e^{- i x}\\right)}{2}$$"
      ],
      "text/plain": [
       "   ⎛ ⅈ⋅x    -ⅈ⋅x⎞ \n",
       "-ⅈ⋅⎝ℯ    - ℯ    ⎠ \n",
       "──────────────────\n",
       "        2         "
      ]
     },
     "execution_count": 178,
     "metadata": {},
     "output_type": "execute_result"
    }
   ],
   "source": [
    "sin(x).rewrite(exp)"
   ]
  },
  {
   "cell_type": "markdown",
   "metadata": {},
   "source": [
    "### 8．ベクトル計算\n",
    "|<p>|sympy.関数名|内容|例）入力>>出力|<p>|  \n",
    "|:----|:---------------|:-----|:------------------|:----|  \n",
    "|<p>| v.scale(3) | スカラー倍 | ``````<br>>> ||   \n",
    "|<p>| v.distance(v.origin) | 距離 | ``````<br>>>$Point2D(9, -4)$ ||   \n",
    "|<p>| v.orthogonal_direction | 直交方向ベクトル | ```v.orthogonal_direction```<br>>>$Point2D(4, 3)$ ||   \n",
    "|<p>| v1.dot(v2) | 内積 | ```v.dot(v.orthogonal_direction)```<br>>>$0$ ||   \n",
    "|<p>|  |  | ``````<br>>> ||   \n"
   ]
  },
  {
   "cell_type": "code",
   "execution_count": 179,
   "metadata": {},
   "outputs": [
    {
     "data": {
      "image/png": "[encoded data removed]",
      "text/latex": [
       "$$Point2D(3, -4)$$"
      ],
      "text/plain": [
       "Point2D(3, -4)"
      ]
     },
     "execution_count": 179,
     "metadata": {},
     "output_type": "execute_result"
    }
   ],
   "source": [
    "v = sym.Point([3,-4]);v"
   ]
  },
  {
   "cell_type": "code",
   "execution_count": 180,
   "metadata": {},
   "outputs": [
    {
     "data": {
      "image/png": "[encoded data removed]",
      "text/latex": [
       "$$Point2D(9, -4)$$"
      ],
      "text/plain": [
       "Point2D(9, -4)"
      ]
     },
     "execution_count": 180,
     "metadata": {},
     "output_type": "execute_result"
    }
   ],
   "source": [
    "v.scale(3)"
   ]
  },
  {
   "cell_type": "code",
   "execution_count": 181,
   "metadata": {},
   "outputs": [
    {
     "ename": "AttributeError",
     "evalue": "'Symbol' object has no attribute 'origin'",
     "output_type": "error",
     "traceback": [
      "\u001b[1;31m---------------------------------------------------------------------------\u001b[0m",
      "\u001b[1;31mAttributeError\u001b[0m                            Traceback (most recent call last)",
      "\u001b[1;32m<ipython-input-181-73324e4cb3de>\u001b[0m in \u001b[0;36m<module>\u001b[1;34m\u001b[0m\n\u001b[1;32m----> 1\u001b[1;33m \u001b[0mv\u001b[0m\u001b[1;33m.\u001b[0m\u001b[0mdistance\u001b[0m\u001b[1;33m(\u001b[0m\u001b[0ma\u001b[0m\u001b[1;33m.\u001b[0m\u001b[0morigin\u001b[0m\u001b[1;33m)\u001b[0m\u001b[1;33m\u001b[0m\u001b[1;33m\u001b[0m\u001b[0m\n\u001b[0m",
      "\u001b[1;31mAttributeError\u001b[0m: 'Symbol' object has no attribute 'origin'"
     ]
    }
   ],
   "source": [
    "v.distance(a.origin)"
   ]
  },
  {
   "cell_type": "code",
   "execution_count": 182,
   "metadata": {},
   "outputs": [
    {
     "data": {
      "image/png": "[encoded data removed]",
      "text/latex": [
       "$$Point2D(4, 3)$$"
      ],
      "text/plain": [
       "Point2D(4, 3)"
      ]
     },
     "execution_count": 182,
     "metadata": {},
     "output_type": "execute_result"
    }
   ],
   "source": [
    "v.orthogonal_direction"
   ]
  },
  {
   "cell_type": "code",
   "execution_count": 168,
   "metadata": {},
   "outputs": [
    {
     "data": {
      "image/png": "[encoded data removed]",
      "text/latex": [
       "$$0$$"
      ],
      "text/plain": [
       "0"
      ]
     },
     "execution_count": 168,
     "metadata": {},
     "output_type": "execute_result"
    }
   ],
   "source": [
    "v.dot(a.orthogonal_direction)"
   ]
  }
 ],
 "metadata": {
  "kernelspec": {
   "display_name": "Python 3",
   "language": "python",
   "name": "python3"
  },
  "language_info": {
   "codemirror_mode": {
    "name": "ipython",
    "version": 3
   },
   "file_extension": ".py",
   "mimetype": "text/x-python",
   "name": "python",
   "nbconvert_exporter": "python",
   "pygments_lexer": "ipython3",
   "version": "3.6.7"
  }
 },
 "nbformat": 4,
 "nbformat_minor": 2
}
